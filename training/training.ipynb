{
 "cells": [
  {
   "cell_type": "code",
   "execution_count": 1,
   "id": "eaff774d",
   "metadata": {},
   "outputs": [],
   "source": [
    "import numpy as np\n",
    "from tensorflow import keras\n",
    "import time\n",
    "import glob\n",
    "from sklearn import metrics\n",
    "from sklearn.metrics import roc_auc_score\n",
    "from sklearn.metrics import accuracy_score\n",
    "from sklearn.metrics import RocCurveDisplay\n",
    "#import matplotlib as mpl\n",
    "#import matplotlib.pyplot as plt\n",
    "import gc\n",
    "from sklearn.decomposition import PCA\n",
    "from matplotlib import pyplot\n",
    "import tensorflow as tf\n",
    "\n",
    "from PIL import Image\n",
    "from joblib import dump, load\n",
    "import zipfile"
   ]
  },
  {
   "cell_type": "markdown",
   "id": "27667e10",
   "metadata": {},
   "source": [
    "# load and transform data with pretrained model RESNET50"
   ]
  },
  {
   "cell_type": "markdown",
   "id": "ffe0b2f7",
   "metadata": {},
   "source": [
    "Provide the path to the local directories with samples for training and testing.\n",
    "\n",
    "Note: since it's anomaly detection case, training only uses the \"good\" samples"
   ]
  },
  {
   "cell_type": "code",
   "execution_count": 2,
   "id": "748f5521",
   "metadata": {},
   "outputs": [],
   "source": [
    "train_normal_dir = r'C:\\Users\\...\\AnomalyDetection\\data\\walnuts\\train\\good'\n",
    "test_normal_dir = r'C:\\Users\\...\\AnomalyDetection\\data\\walnuts\\test\\good'\n",
    "test_anomaly_dir = r'C:\\Users\\...\\AnomalyDetection\\data\\walnuts\\test\\bad'"
   ]
  },
  {
   "cell_type": "markdown",
   "id": "bada6987",
   "metadata": {},
   "source": [
    "Load one image from samples to see the image dimensions.\n",
    "\n",
    "Note: here we assume that all images have same dimensions"
   ]
  },
  {
   "cell_type": "code",
   "execution_count": 3,
   "id": "4a0b0365",
   "metadata": {},
   "outputs": [],
   "source": [
    "example_name = glob.glob(train_normal_dir+'\\*.png')[0]\n",
    "example = np.array(Image.open(example_name))\n",
    "example_shape = example.shape"
   ]
  },
  {
   "cell_type": "markdown",
   "id": "a813faa7",
   "metadata": {},
   "source": [
    "Load the pretrained Keras model RESNET50 and set it to fit our sample image.\n",
    "\n",
    "We add global pulling2D layer instead of original top layer to get a 1D array of features instead of original predictions"
   ]
  },
  {
   "cell_type": "code",
   "execution_count": 4,
   "id": "094ffe76",
   "metadata": {},
   "outputs": [],
   "source": [
    "pretrained_model = keras.applications.ResNet50(include_top=False, weights=\"imagenet\",input_shape=example_shape  )\n",
    "model = keras.models.Sequential([pretrained_model, keras.layers.GlobalAveragePooling2D()])"
   ]
  },
  {
   "cell_type": "markdown",
   "id": "3859e2f6",
   "metadata": {},
   "source": [
    "Use the model to transform each images into rows of feature values"
   ]
  },
  {
   "cell_type": "code",
   "execution_count": 5,
   "id": "ac7d6bc9",
   "metadata": {},
   "outputs": [
    {
     "name": "stdout",
     "output_type": "stream",
     "text": [
      "1/1 [==============================] - 4s 4s/step\n",
      "1/1 [==============================] - 2s 2s/step\n",
      "1/1 [==============================] - 2s 2s/step\n",
      "1/1 [==============================] - 2s 2s/step\n",
      "1/1 [==============================] - 2s 2s/step\n",
      "1/1 [==============================] - 2s 2s/step\n",
      "1/1 [==============================] - 1s 1s/step\n",
      "1/1 [==============================] - 1s 1s/step\n",
      "1/1 [==============================] - 1s 1s/step\n",
      "1/1 [==============================] - 1s 1s/step\n",
      "1/1 [==============================] - 1s 1s/step\n",
      "1/1 [==============================] - 2s 2s/step\n",
      "1/1 [==============================] - 1s 1s/step\n",
      "1/1 [==============================] - 2s 2s/step\n",
      "1/1 [==============================] - 1s 1s/step\n",
      "1/1 [==============================] - 1s 1s/step\n",
      "1/1 [==============================] - 1s 1s/step\n",
      "1/1 [==============================] - 1s 1s/step\n",
      "1/1 [==============================] - 1s 1s/step\n",
      "1/1 [==============================] - 1s 1s/step\n",
      "1/1 [==============================] - 1s 1s/step\n",
      "1/1 [==============================] - 1s 1s/step\n",
      "1/1 [==============================] - 1s 1s/step\n",
      "1/1 [==============================] - 1s 1s/step\n",
      "1/1 [==============================] - 1s 1s/step\n",
      "1/1 [==============================] - 1s 1s/step\n",
      "1/1 [==============================] - 1s 1s/step\n",
      "1/1 [==============================] - 1s 1s/step\n",
      "1/1 [==============================] - 1s 1s/step\n",
      "1/1 [==============================] - 1s 1s/step\n",
      "1/1 [==============================] - 1s 1s/step\n",
      "1/1 [==============================] - 1s 1s/step\n",
      "1/1 [==============================] - 1s 1s/step\n",
      "1/1 [==============================] - 1s 1s/step\n",
      "1/1 [==============================] - 1s 1s/step\n",
      "1/1 [==============================] - 1s 1s/step\n",
      "1/1 [==============================] - 1s 1s/step\n",
      "1/1 [==============================] - 2s 2s/step\n",
      "1/1 [==============================] - 2s 2s/step\n",
      "1/1 [==============================] - 2s 2s/step\n",
      "1/1 [==============================] - 2s 2s/step\n",
      "1/1 [==============================] - 2s 2s/step\n",
      "1/1 [==============================] - 2s 2s/step\n",
      "1/1 [==============================] - 2s 2s/step\n",
      "1/1 [==============================] - 1s 1s/step\n",
      "1/1 [==============================] - 1s 1s/step\n",
      "1/1 [==============================] - 1s 1s/step\n",
      "1/1 [==============================] - 1s 1s/step\n",
      "1/1 [==============================] - 1s 1s/step\n",
      "1/1 [==============================] - 1s 1s/step\n",
      "1/1 [==============================] - 1s 1s/step\n",
      "1/1 [==============================] - 1s 1s/step\n",
      "1/1 [==============================] - 1s 1s/step\n",
      "1/1 [==============================] - 1s 1s/step\n",
      "1/1 [==============================] - 1s 1s/step\n",
      "1/1 [==============================] - 1s 1s/step\n",
      "1/1 [==============================] - 1s 1s/step\n",
      "1/1 [==============================] - 1s 1s/step\n",
      "1/1 [==============================] - 1s 1s/step\n",
      "1/1 [==============================] - 1s 1s/step\n",
      "1/1 [==============================] - 1s 1s/step\n",
      "1/1 [==============================] - 1s 1s/step\n",
      "1/1 [==============================] - 1s 1s/step\n",
      "1/1 [==============================] - 1s 1s/step\n",
      "1/1 [==============================] - 1s 1s/step\n",
      "1/1 [==============================] - 1s 1s/step\n",
      "1/1 [==============================] - 1s 1s/step\n",
      "1/1 [==============================] - 1s 1s/step\n",
      "1/1 [==============================] - 1s 1s/step\n",
      "1/1 [==============================] - 1s 1s/step\n",
      "1/1 [==============================] - 1s 1s/step\n",
      "1/1 [==============================] - 1s 1s/step\n",
      "1/1 [==============================] - 1s 1s/step\n",
      "1/1 [==============================] - 1s 1s/step\n",
      "1/1 [==============================] - 1s 1s/step\n",
      "1/1 [==============================] - 1s 1s/step\n",
      "1/1 [==============================] - 1s 1s/step\n",
      "1/1 [==============================] - 1s 1s/step\n",
      "1/1 [==============================] - 1s 1s/step\n",
      "1/1 [==============================] - 1s 1s/step\n",
      "1/1 [==============================] - 1s 1s/step\n",
      "1/1 [==============================] - 1s 1s/step\n",
      "1/1 [==============================] - 1s 1s/step\n",
      "1/1 [==============================] - 1s 1s/step\n",
      "1/1 [==============================] - 1s 1s/step\n",
      "1/1 [==============================] - 1s 1s/step\n",
      "1/1 [==============================] - 1s 1s/step\n",
      "1/1 [==============================] - 1s 1s/step\n",
      "1/1 [==============================] - 1s 1s/step\n",
      "CPU times: total: 12min 40s\n",
      "Wall time: 2min 19s\n"
     ]
    }
   ],
   "source": [
    "%%time\n",
    "data = []\n",
    "\n",
    "for filename in glob.glob(train_normal_dir+'\\*.png'): \n",
    "    image = np.array(Image.open(filename))\n",
    "    features = model.predict(image.reshape((1,example_shape[0],example_shape[1],example_shape[2]))) #pillow doesn't need *255\n",
    "    data.append(features)\n",
    "X_train =np.array(data)\n",
    "X_shape = X_train.shape\n",
    "X_train = X_train.reshape((X_shape[0],X_shape[2]))"
   ]
  },
  {
   "cell_type": "code",
   "execution_count": 6,
   "id": "7048bf79",
   "metadata": {},
   "outputs": [
    {
     "name": "stdout",
     "output_type": "stream",
     "text": [
      "1/1 [==============================] - 1s 1s/step\n",
      "1/1 [==============================] - 1s 1s/step\n",
      "1/1 [==============================] - 1s 1s/step\n",
      "1/1 [==============================] - 1s 1s/step\n",
      "1/1 [==============================] - 1s 1s/step\n",
      "1/1 [==============================] - 1s 1s/step\n",
      "1/1 [==============================] - 1s 1s/step\n",
      "1/1 [==============================] - 1s 1s/step\n",
      "1/1 [==============================] - 1s 1s/step\n",
      "1/1 [==============================] - 1s 1s/step\n",
      "1/1 [==============================] - 1s 1s/step\n",
      "1/1 [==============================] - 1s 1s/step\n",
      "1/1 [==============================] - 1s 1s/step\n",
      "1/1 [==============================] - 1s 1s/step\n",
      "1/1 [==============================] - 1s 1s/step\n",
      "1/1 [==============================] - 1s 1s/step\n",
      "1/1 [==============================] - 1s 1s/step\n",
      "1/1 [==============================] - 1s 1s/step\n",
      "1/1 [==============================] - 1s 1s/step\n",
      "1/1 [==============================] - 1s 1s/step\n",
      "1/1 [==============================] - 1s 1s/step\n",
      "1/1 [==============================] - 1s 1s/step\n",
      "1/1 [==============================] - 1s 1s/step\n",
      "1/1 [==============================] - 1s 1s/step\n",
      "1/1 [==============================] - 1s 1s/step\n",
      "1/1 [==============================] - 1s 1s/step\n",
      "1/1 [==============================] - 1s 1s/step\n",
      "1/1 [==============================] - 1s 1s/step\n",
      "1/1 [==============================] - 1s 1s/step\n",
      "1/1 [==============================] - 1s 1s/step\n",
      "1/1 [==============================] - 1s 1s/step\n",
      "1/1 [==============================] - 1s 1s/step\n",
      "1/1 [==============================] - 1s 1s/step\n",
      "1/1 [==============================] - 1s 1s/step\n",
      "1/1 [==============================] - 1s 1s/step\n",
      "1/1 [==============================] - 1s 1s/step\n",
      "1/1 [==============================] - 1s 1s/step\n",
      "1/1 [==============================] - 1s 1s/step\n",
      "1/1 [==============================] - 1s 1s/step\n",
      "1/1 [==============================] - 1s 1s/step\n",
      "1/1 [==============================] - 1s 1s/step\n",
      "1/1 [==============================] - 1s 1s/step\n",
      "1/1 [==============================] - 1s 1s/step\n",
      "1/1 [==============================] - 1s 1s/step\n",
      "1/1 [==============================] - 1s 1s/step\n",
      "1/1 [==============================] - 1s 1s/step\n",
      "1/1 [==============================] - 1s 1s/step\n",
      "1/1 [==============================] - 1s 1s/step\n",
      "1/1 [==============================] - 1s 1s/step\n",
      "1/1 [==============================] - 1s 1s/step\n",
      "1/1 [==============================] - 1s 1s/step\n",
      "1/1 [==============================] - 1s 1s/step\n",
      "1/1 [==============================] - 1s 1s/step\n",
      "1/1 [==============================] - 1s 1s/step\n",
      "1/1 [==============================] - 1s 1s/step\n",
      "1/1 [==============================] - 1s 1s/step\n",
      "1/1 [==============================] - 1s 1s/step\n",
      "1/1 [==============================] - 2s 2s/step\n",
      "1/1 [==============================] - 2s 2s/step\n",
      "1/1 [==============================] - 1s 1s/step\n",
      "1/1 [==============================] - 1s 1s/step\n",
      "1/1 [==============================] - 1s 1s/step\n",
      "1/1 [==============================] - 1s 1s/step\n",
      "1/1 [==============================] - 1s 1s/step\n",
      "1/1 [==============================] - 1s 1s/step\n",
      "1/1 [==============================] - 1s 1s/step\n",
      "1/1 [==============================] - 1s 1s/step\n",
      "1/1 [==============================] - 1s 1s/step\n",
      "1/1 [==============================] - 1s 1s/step\n",
      "1/1 [==============================] - 1s 1s/step\n",
      "1/1 [==============================] - 1s 1s/step\n",
      "1/1 [==============================] - 1s 1s/step\n",
      "1/1 [==============================] - 1s 1s/step\n",
      "1/1 [==============================] - 1s 1s/step\n",
      "1/1 [==============================] - 1s 1s/step\n",
      "1/1 [==============================] - 1s 1s/step\n",
      "1/1 [==============================] - 1s 1s/step\n",
      "1/1 [==============================] - 1s 1s/step\n",
      "1/1 [==============================] - 1s 1s/step\n",
      "1/1 [==============================] - 1s 1s/step\n",
      "1/1 [==============================] - 1s 1s/step\n",
      "1/1 [==============================] - 1s 1s/step\n",
      "1/1 [==============================] - 1s 1s/step\n",
      "1/1 [==============================] - 1s 1s/step\n",
      "1/1 [==============================] - 1s 1s/step\n",
      "1/1 [==============================] - 1s 1s/step\n",
      "1/1 [==============================] - 1s 1s/step\n",
      "1/1 [==============================] - 1s 1s/step\n",
      "1/1 [==============================] - 1s 1s/step\n",
      "1/1 [==============================] - 1s 1s/step\n",
      "1/1 [==============================] - 1s 1s/step\n",
      "1/1 [==============================] - 1s 1s/step\n",
      "1/1 [==============================] - 1s 1s/step\n",
      "1/1 [==============================] - 1s 1s/step\n",
      "1/1 [==============================] - 1s 1s/step\n",
      "1/1 [==============================] - 1s 1s/step\n",
      "1/1 [==============================] - 1s 1s/step\n",
      "1/1 [==============================] - 1s 1s/step\n",
      "1/1 [==============================] - 1s 1s/step\n",
      "1/1 [==============================] - 1s 1s/step\n",
      "1/1 [==============================] - 1s 1s/step\n",
      "1/1 [==============================] - 1s 1s/step\n",
      "1/1 [==============================] - 1s 1s/step\n",
      "1/1 [==============================] - 1s 1s/step\n",
      "1/1 [==============================] - 1s 1s/step\n",
      "1/1 [==============================] - 1s 1s/step\n",
      "1/1 [==============================] - 1s 1s/step\n",
      "1/1 [==============================] - 1s 1s/step\n",
      "1/1 [==============================] - 1s 1s/step\n",
      "1/1 [==============================] - 1s 1s/step\n",
      "1/1 [==============================] - 1s 1s/step\n",
      "1/1 [==============================] - 1s 1s/step\n",
      "1/1 [==============================] - 1s 1s/step\n",
      "1/1 [==============================] - 1s 1s/step\n",
      "1/1 [==============================] - 1s 1s/step\n",
      "1/1 [==============================] - 1s 1s/step\n",
      "1/1 [==============================] - 1s 1s/step\n",
      "1/1 [==============================] - 1s 1s/step\n",
      "1/1 [==============================] - 1s 1s/step\n",
      "1/1 [==============================] - 1s 1s/step\n",
      "1/1 [==============================] - 1s 1s/step\n",
      "1/1 [==============================] - 1s 1s/step\n",
      "1/1 [==============================] - 1s 1s/step\n",
      "1/1 [==============================] - 1s 1s/step\n",
      "1/1 [==============================] - 1s 1s/step\n",
      "1/1 [==============================] - 1s 1s/step\n",
      "1/1 [==============================] - 1s 1s/step\n",
      "1/1 [==============================] - 1s 1s/step\n",
      "1/1 [==============================] - 1s 1s/step\n",
      "1/1 [==============================] - 1s 1s/step\n",
      "1/1 [==============================] - 1s 1s/step\n",
      "1/1 [==============================] - 1s 1s/step\n",
      "1/1 [==============================] - 1s 1s/step\n",
      "1/1 [==============================] - 1s 1s/step\n",
      "1/1 [==============================] - 1s 1s/step\n",
      "1/1 [==============================] - 1s 1s/step\n",
      "1/1 [==============================] - 1s 1s/step\n",
      "1/1 [==============================] - 1s 1s/step\n",
      "1/1 [==============================] - 1s 1s/step\n",
      "1/1 [==============================] - 1s 1s/step\n",
      "1/1 [==============================] - 1s 1s/step\n",
      "1/1 [==============================] - 1s 1s/step\n",
      "1/1 [==============================] - 1s 1s/step\n",
      "1/1 [==============================] - 1s 1s/step\n",
      "1/1 [==============================] - 1s 1s/step\n",
      "1/1 [==============================] - 1s 1s/step\n",
      "CPU times: total: 19min 56s\n",
      "Wall time: 3min 33s\n"
     ]
    }
   ],
   "source": [
    "%%time\n",
    "data = []\n",
    "labels = []\n",
    "for filename in glob.glob(test_normal_dir+'\\*.png'): \n",
    "    image = np.array(Image.open(filename))\n",
    "    features = model.predict(image.reshape((1,example_shape[0],example_shape[1],example_shape[2]))) #pillow doesn't need *255\n",
    "    data.append(features)\n",
    "    labels.append(0)\n",
    "for filename in glob.glob(test_anomaly_dir+'\\*.png'): \n",
    "    image = np.array(Image.open(filename))\n",
    "    features = model.predict(image.reshape((1,example_shape[0],example_shape[1],example_shape[2]))) #pillow doesn't need *255\n",
    "    data.append(features)\n",
    "    labels.append(1)\n",
    "X_labeled = np.array(data)\n",
    "X_shape = X_labeled.shape\n",
    "X_labeled = X_labeled.reshape((X_shape[0],X_shape[2]))"
   ]
  },
  {
   "cell_type": "markdown",
   "id": "ba2e770a",
   "metadata": {},
   "source": [
    "# train model"
   ]
  },
  {
   "cell_type": "markdown",
   "id": "959271fd",
   "metadata": {},
   "source": [
    "Train PCA model from Scikit-Learn library to fit the training samples"
   ]
  },
  {
   "cell_type": "code",
   "execution_count": 7,
   "id": "d75bdd38",
   "metadata": {},
   "outputs": [
    {
     "data": {
      "text/html": [
       "<style>#sk-container-id-1 {color: black;}#sk-container-id-1 pre{padding: 0;}#sk-container-id-1 div.sk-toggleable {background-color: white;}#sk-container-id-1 label.sk-toggleable__label {cursor: pointer;display: block;width: 100%;margin-bottom: 0;padding: 0.3em;box-sizing: border-box;text-align: center;}#sk-container-id-1 label.sk-toggleable__label-arrow:before {content: \"▸\";float: left;margin-right: 0.25em;color: #696969;}#sk-container-id-1 label.sk-toggleable__label-arrow:hover:before {color: black;}#sk-container-id-1 div.sk-estimator:hover label.sk-toggleable__label-arrow:before {color: black;}#sk-container-id-1 div.sk-toggleable__content {max-height: 0;max-width: 0;overflow: hidden;text-align: left;background-color: #f0f8ff;}#sk-container-id-1 div.sk-toggleable__content pre {margin: 0.2em;color: black;border-radius: 0.25em;background-color: #f0f8ff;}#sk-container-id-1 input.sk-toggleable__control:checked~div.sk-toggleable__content {max-height: 200px;max-width: 100%;overflow: auto;}#sk-container-id-1 input.sk-toggleable__control:checked~label.sk-toggleable__label-arrow:before {content: \"▾\";}#sk-container-id-1 div.sk-estimator input.sk-toggleable__control:checked~label.sk-toggleable__label {background-color: #d4ebff;}#sk-container-id-1 div.sk-label input.sk-toggleable__control:checked~label.sk-toggleable__label {background-color: #d4ebff;}#sk-container-id-1 input.sk-hidden--visually {border: 0;clip: rect(1px 1px 1px 1px);clip: rect(1px, 1px, 1px, 1px);height: 1px;margin: -1px;overflow: hidden;padding: 0;position: absolute;width: 1px;}#sk-container-id-1 div.sk-estimator {font-family: monospace;background-color: #f0f8ff;border: 1px dotted black;border-radius: 0.25em;box-sizing: border-box;margin-bottom: 0.5em;}#sk-container-id-1 div.sk-estimator:hover {background-color: #d4ebff;}#sk-container-id-1 div.sk-parallel-item::after {content: \"\";width: 100%;border-bottom: 1px solid gray;flex-grow: 1;}#sk-container-id-1 div.sk-label:hover label.sk-toggleable__label {background-color: #d4ebff;}#sk-container-id-1 div.sk-serial::before {content: \"\";position: absolute;border-left: 1px solid gray;box-sizing: border-box;top: 0;bottom: 0;left: 50%;z-index: 0;}#sk-container-id-1 div.sk-serial {display: flex;flex-direction: column;align-items: center;background-color: white;padding-right: 0.2em;padding-left: 0.2em;position: relative;}#sk-container-id-1 div.sk-item {position: relative;z-index: 1;}#sk-container-id-1 div.sk-parallel {display: flex;align-items: stretch;justify-content: center;background-color: white;position: relative;}#sk-container-id-1 div.sk-item::before, #sk-container-id-1 div.sk-parallel-item::before {content: \"\";position: absolute;border-left: 1px solid gray;box-sizing: border-box;top: 0;bottom: 0;left: 50%;z-index: -1;}#sk-container-id-1 div.sk-parallel-item {display: flex;flex-direction: column;z-index: 1;position: relative;background-color: white;}#sk-container-id-1 div.sk-parallel-item:first-child::after {align-self: flex-end;width: 50%;}#sk-container-id-1 div.sk-parallel-item:last-child::after {align-self: flex-start;width: 50%;}#sk-container-id-1 div.sk-parallel-item:only-child::after {width: 0;}#sk-container-id-1 div.sk-dashed-wrapped {border: 1px dashed gray;margin: 0 0.4em 0.5em 0.4em;box-sizing: border-box;padding-bottom: 0.4em;background-color: white;}#sk-container-id-1 div.sk-label label {font-family: monospace;font-weight: bold;display: inline-block;line-height: 1.2em;}#sk-container-id-1 div.sk-label-container {text-align: center;}#sk-container-id-1 div.sk-container {/* jupyter's `normalize.less` sets `[hidden] { display: none; }` but bootstrap.min.css set `[hidden] { display: none !important; }` so we also need the `!important` here to be able to override the default hidden behavior on the sphinx rendered scikit-learn.org. See: https://github.com/scikit-learn/scikit-learn/issues/21755 */display: inline-block !important;position: relative;}#sk-container-id-1 div.sk-text-repr-fallback {display: none;}</style><div id=\"sk-container-id-1\" class=\"sk-top-container\"><div class=\"sk-text-repr-fallback\"><pre>PCA(n_components=79)</pre><b>In a Jupyter environment, please rerun this cell to show the HTML representation or trust the notebook. <br />On GitHub, the HTML representation is unable to render, please try loading this page with nbviewer.org.</b></div><div class=\"sk-container\" hidden><div class=\"sk-item\"><div class=\"sk-estimator sk-toggleable\"><input class=\"sk-toggleable__control sk-hidden--visually\" id=\"sk-estimator-id-1\" type=\"checkbox\" checked><label for=\"sk-estimator-id-1\" class=\"sk-toggleable__label sk-toggleable__label-arrow\">PCA</label><div class=\"sk-toggleable__content\"><pre>PCA(n_components=79)</pre></div></div></div></div></div>"
      ],
      "text/plain": [
       "PCA(n_components=79)"
      ]
     },
     "execution_count": 7,
     "metadata": {},
     "output_type": "execute_result"
    }
   ],
   "source": [
    "n_components = len(X_train) - 10\n",
    "pca = PCA(n_components = n_components) \n",
    "pca.fit(X_train)"
   ]
  },
  {
   "cell_type": "markdown",
   "id": "56219c8b",
   "metadata": {},
   "source": [
    "# evaluate model"
   ]
  },
  {
   "cell_type": "markdown",
   "id": "2b34f470",
   "metadata": {},
   "source": [
    "score the samples in test set and plot ROC curve"
   ]
  },
  {
   "cell_type": "code",
   "execution_count": 8,
   "id": "c4410993",
   "metadata": {},
   "outputs": [
    {
     "name": "stderr",
     "output_type": "stream",
     "text": [
      "No artists with labels found to put in legend.  Note that artists whose label start with an underscore are ignored when legend() is called with no argument.\n"
     ]
    },
    {
     "data": {
      "text/plain": [
       "0.8795045045045046"
      ]
     },
     "execution_count": 8,
     "metadata": {},
     "output_type": "execute_result"
    },
    {
     "data": {
      "image/png": "[encoded data removed]",
      "text/plain": [
       "<Figure size 640x480 with 1 Axes>"
      ]
     },
     "metadata": {},
     "output_type": "display_data"
    }
   ],
   "source": [
    "y_pred = -pca.score_samples(X_labeled)\n",
    "fpr, tpr, thresholds = metrics.roc_curve(labels, y_pred)\n",
    "roc_display = RocCurveDisplay(fpr=fpr, tpr=tpr).plot()\n",
    "roc_auc_score(np.array(labels) == 1, y_pred)"
   ]
  },
  {
   "cell_type": "markdown",
   "id": "d4de07b6",
   "metadata": {},
   "source": [
    "check how well the scores we got allow to separate the positive samples from the negative ones"
   ]
  },
  {
   "cell_type": "code",
   "execution_count": 9,
   "id": "0cb88cd9",
   "metadata": {},
   "outputs": [],
   "source": [
    "pos_scores = y_pred[np.array(labels) == 1.0]\n",
    "neg_scores = y_pred[np.array(labels) == 0.0]"
   ]
  },
  {
   "cell_type": "code",
   "execution_count": 10,
   "id": "ad47a6bf",
   "metadata": {},
   "outputs": [],
   "source": [
    "z = 2.58          #99%  CI\n",
    "pos_mean = np.mean(pos_scores)\n",
    "neg_mean = np.mean(neg_scores)\n",
    "delta_pos = z*np.std(pos_scores)/len(pos_scores)**(1/2)\n",
    "delta_neg = z*np.std(neg_scores)/len(neg_scores)**(1/2)"
   ]
  },
  {
   "cell_type": "code",
   "execution_count": 11,
   "id": "429540dd",
   "metadata": {},
   "outputs": [
    {
     "data": {
      "text/plain": [
       "<matplotlib.lines.Line2D at 0x1f886bbfd00>"
      ]
     },
     "execution_count": 11,
     "metadata": {},
     "output_type": "execute_result"
    },
    {
     "data": {
      "image/png": "[encoded data removed]",
      "text/plain": [
       "<Figure size 640x480 with 1 Axes>"
      ]
     },
     "metadata": {},
     "output_type": "display_data"
    }
   ],
   "source": [
    "bins = np.linspace(min(y_pred), max(y_pred),100)\n",
    "\n",
    "pyplot.hist(pos_scores, bins, alpha=0.5, label='anomaly sample')\n",
    "pyplot.hist(neg_scores, bins, alpha=0.5, label='normal sample')\n",
    "pyplot.legend(loc='upper right')\n",
    "\n",
    "pyplot.axvline(x=pos_mean,color='b', linestyle='-',linewidth = 2)\n",
    "pyplot.axvline(x=pos_mean+delta_pos, color='b', linestyle='--',linewidth = 1)\n",
    "pyplot.axvline(x=pos_mean-delta_pos, color='b', linestyle='--',linewidth = 1)\n",
    "\n",
    "pyplot.axvline(x=neg_mean,color='r', linestyle='-',linewidth = 2)\n",
    "pyplot.axvline(x=neg_mean+delta_neg, color='r', linestyle='--',linewidth = 1)\n",
    "pyplot.axvline(x=neg_mean-delta_neg, color='r', linestyle='--',linewidth = 1)"
   ]
  },
  {
   "cell_type": "markdown",
   "id": "30b28dd2",
   "metadata": {},
   "source": [
    "Since our use case value TPR more, check what FPR can we get for given values of TPR\n",
    "\n",
    "Function details:\n",
    "\n",
    "INPUT: list of labels, list of scores, expected TPR. \n",
    "\n",
    "Finds the threshold that matches given TPR \n",
    "\n",
    "RETURN: corresponding FPR"
   ]
  },
  {
   "cell_type": "code",
   "execution_count": 12,
   "id": "b630f401",
   "metadata": {},
   "outputs": [],
   "source": [
    "def fpr_from_tpr(labels,y_pred,tpr):\n",
    "    labels = np.array(labels)\n",
    "    n_neg, n_pos = np.unique(labels,return_counts = True)[1] #\"positive\" are anomalies, labeled by \"1\", \"negative\" - by \"o\"\n",
    "    ordered_positive_predictions = np.sort(y_pred[labels == 1])\n",
    "    pos_index_cutoff = int(np.ceil(tpr * n_pos))\n",
    "    cutoff = ordered_positive_predictions[n_pos - pos_index_cutoff]\n",
    "    y_neg = y_pred[labels == 0]\n",
    "    fpr = len(y_neg[y_neg > cutoff])/n_neg\n",
    "    return fpr"
   ]
  },
  {
   "cell_type": "code",
   "execution_count": 18,
   "id": "be023d14",
   "metadata": {},
   "outputs": [
    {
     "name": "stdout",
     "output_type": "stream",
     "text": [
      "0.8333333333333334\n",
      "0.4583333333333333\n"
     ]
    }
   ],
   "source": [
    "print(fpr_from_tpr(labels,y_pred,1))\n",
    "print(fpr_from_tpr(labels,y_pred,0.95))\n"
   ]
  },
  {
   "cell_type": "markdown",
   "id": "6fdf5d07",
   "metadata": {},
   "source": [
    "# save the model"
   ]
  },
  {
   "cell_type": "markdown",
   "id": "dbe93fd4",
   "metadata": {},
   "source": [
    "save the Keras CNN model\n",
    "\n",
    "Note: this model is too big to pickle it, we have to use keras built in methods to save it"
   ]
  },
  {
   "cell_type": "code",
   "execution_count": 19,
   "id": "91805dc3",
   "metadata": {},
   "outputs": [
    {
     "name": "stderr",
     "output_type": "stream",
     "text": [
      "c:\\Users\\Ivan\\work\\AnomalyDetection\\predictor_app_git\\.venv\\lib\\site-packages\\keras\\src\\engine\\training.py:3000: UserWarning: You are saving your model as an HDF5 file via `model.save()`. This file format is considered legacy. We recommend using instead the native Keras format, e.g. `model.save('my_model.keras')`.\n",
      "  saving_api.save_model(\n"
     ]
    }
   ],
   "source": [
    "saved_model_path = \"models/resnet.h5\"\n",
    "model.compile()  #we compile the model to save TF from processing all warnings on SAVE and LOAD\n",
    "model.save(saved_model_path)\n"
   ]
  },
  {
   "cell_type": "markdown",
   "id": "c36551b0",
   "metadata": {},
   "source": [
    "save the sklearn PCA model"
   ]
  },
  {
   "cell_type": "code",
   "execution_count": 20,
   "id": "dddc7ebf",
   "metadata": {},
   "outputs": [
    {
     "data": {
      "text/plain": [
       "['./models/pca.joblib']"
      ]
     },
     "execution_count": 20,
     "metadata": {},
     "output_type": "execute_result"
    }
   ],
   "source": [
    "dump(pca, './models/pca.joblib') "
   ]
  },
  {
   "cell_type": "markdown",
   "id": "10cf6eed",
   "metadata": {},
   "source": [
    "Save the threshold value for the tpr we chose"
   ]
  },
  {
   "cell_type": "code",
   "execution_count": 21,
   "id": "a15fcb19",
   "metadata": {},
   "outputs": [],
   "source": [
    "def threshold_from_tpr(labels,y_pred,tpr):\n",
    "    labels = np.array(labels)\n",
    "    n_neg, n_pos = np.unique(labels,return_counts = True)[1] #\"positive\" are anomalies, labeled by \"1\", \"negative\" - by \"1\"\n",
    "    ordered_positive_predictions = np.sort(y_pred[labels == 1])\n",
    "    pos_index_cutoff = int(np.ceil(tpr * n_pos))\n",
    "    cutoff = ordered_positive_predictions[n_pos - pos_index_cutoff]\n",
    "    return cutoff"
   ]
  },
  {
   "cell_type": "code",
   "execution_count": 22,
   "id": "daa1abe4",
   "metadata": {},
   "outputs": [
    {
     "data": {
      "text/plain": [
       "['./models/variables.joblib']"
      ]
     },
     "execution_count": 22,
     "metadata": {},
     "output_type": "execute_result"
    }
   ],
   "source": [
    "tpr = 1\n",
    "threshold = threshold_from_tpr(labels,y_pred,1.0)\n",
    "dump(threshold,'./models/variables.joblib')"
   ]
  },
  {
   "cell_type": "code",
   "execution_count": 4,
   "id": "b2be240a",
   "metadata": {},
   "outputs": [],
   "source": [
    "list_files = ['./models/resnet.h5', './models/pca.joblib', './models/variables.joblib']\n",
    "with zipfile.ZipFile('models/models.zip', 'w') as zipF:\n",
    "  for file in list_files:\n",
    "    zipF.write(file, compress_type=zipfile.ZIP_DEFLATED)"
   ]
  }
 ],
 "metadata": {
  "interpreter": {
   "hash": "f0fd0e4d73ab02783fea58530aa2eac66965403a9c3dd70a5e1db80566f68cfe"
  },
  "kernelspec": {
   "display_name": ".venv",
   "language": "python",
   "name": ".venv"
  },
  "language_info": {
   "codemirror_mode": {
    "name": "ipython",
    "version": 3
   },
   "file_extension": ".py",
   "mimetype": "text/x-python",
   "name": "python",
   "nbconvert_exporter": "python",
   "pygments_lexer": "ipython3",
   "version": "3.10.0"
  }
 },
 "nbformat": 4,
 "nbformat_minor": 5
}
